{
 "metadata": {
  "name": "",
  "signature": "sha256:f169280c9537b1f9cd0ca85cf55811cce4aa05dea526464c7a3c97cb5f35279d"
 },
 "nbformat": 3,
 "nbformat_minor": 0,
 "worksheets": [
  {
   "cells": [
    {
     "cell_type": "code",
     "collapsed": false,
     "input": [
      "from pyspark import SparkContext"
     ],
     "language": "python",
     "metadata": {},
     "outputs": [],
     "prompt_number": 1
    },
    {
     "cell_type": "code",
     "collapsed": false,
     "input": [
      "sc = SparkContext(\"local\", \"main\")"
     ],
     "language": "python",
     "metadata": {},
     "outputs": [],
     "prompt_number": 2
    },
    {
     "cell_type": "code",
     "collapsed": false,
     "input": [
      "sc.textFile(\"/Users/jshuster/projects/personal/kaggle/data/0ACDbR5M3ZhBJajygTuf.bytes\")"
     ],
     "language": "python",
     "metadata": {},
     "outputs": [
      {
       "metadata": {},
       "output_type": "pyout",
       "prompt_number": 3,
       "text": [
        "/Users/jshuster/projects/personal/kaggle/data/0ACDbR5M3ZhBJajygTuf.bytes MappedRDD[1] at textFile at NativeMethodAccessorImpl.java:-2"
       ]
      }
     ],
     "prompt_number": 3
    },
    {
     "cell_type": "code",
     "collapsed": false,
     "input": [
      "rdd = sc.textFile(\"/Users/jshuster/projects/personal/kaggle/data/test_bytes/fileList.txt\")"
     ],
     "language": "python",
     "metadata": {},
     "outputs": [],
     "prompt_number": 11
    },
    {
     "cell_type": "code",
     "collapsed": false,
     "input": [
      "rdd.repartition(2)"
     ],
     "language": "python",
     "metadata": {},
     "outputs": [
      {
       "metadata": {},
       "output_type": "pyout",
       "prompt_number": 62,
       "text": [
        "MappedRDD[51] at repartition at NativeMethodAccessorImpl.java:-2"
       ]
      }
     ],
     "prompt_number": 62
    },
    {
     "cell_type": "code",
     "collapsed": false,
     "input": [
      "pairRdd = rdd.flatMap(lambda x:\n",
      "    [(\"one\", [1,0,0]), (\"two\",[0,1,0]), (\"three\",[0,0,1])]\n",
      ")"
     ],
     "language": "python",
     "metadata": {},
     "outputs": [],
     "prompt_number": 72
    },
    {
     "cell_type": "code",
     "collapsed": false,
     "input": [
      "def NgramCount(fileName):\n",
      "    variable = \"\"\n",
      "    with open(fileName, \"r\") as f:\n",
      "        for row in f.readlines():\n",
      "            variable = row\n",
      "    return [(variable, [1])]\n",
      "    #for loop for files\n",
      "        #load entire file in\n",
      "        #generate n-grams Map<String, List<Int>>\n",
      "    #end loop for files"
     ],
     "language": "python",
     "metadata": {},
     "outputs": [],
     "prompt_number": 81
    },
    {
     "cell_type": "code",
     "collapsed": false,
     "input": [
      "pairRdd.collect()"
     ],
     "language": "python",
     "metadata": {},
     "outputs": [
      {
       "metadata": {},
       "output_type": "pyout",
       "prompt_number": 73,
       "text": [
        "[('one', [1, 0, 0]),\n",
        " ('two', [0, 1, 0]),\n",
        " ('three', [0, 0, 1]),\n",
        " ('one', [1, 0, 0]),\n",
        " ('two', [0, 1, 0]),\n",
        " ('three', [0, 0, 1])]"
       ]
      }
     ],
     "prompt_number": 73
    },
    {
     "cell_type": "code",
     "collapsed": false,
     "input": [
      "rdd"
     ],
     "language": "python",
     "metadata": {},
     "outputs": [
      {
       "metadata": {},
       "output_type": "pyout",
       "prompt_number": 33,
       "text": [
        "/Users/jshuster/projects/personal/kaggle/data/test_bytes/fileList.txt MappedRDD[11] at textFile at NativeMethodAccessorImpl.java:-2"
       ]
      }
     ],
     "prompt_number": 33
    },
    {
     "cell_type": "code",
     "collapsed": false,
     "input": [
      "def accumulate(k, x):\n",
      "    return [i+j for i,j in zip(k,x)]"
     ],
     "language": "python",
     "metadata": {},
     "outputs": [],
     "prompt_number": 70
    },
    {
     "cell_type": "code",
     "collapsed": false,
     "input": [
      "accumulate([[2,0],[0,1]])"
     ],
     "language": "python",
     "metadata": {},
     "outputs": [
      {
       "metadata": {},
       "output_type": "pyout",
       "prompt_number": 44,
       "text": [
        "[2, 1, 0]"
       ]
      }
     ],
     "prompt_number": 44
    },
    {
     "cell_type": "code",
     "collapsed": false,
     "input": [
      "pairRdd.reduceByKey(accumulate).collect()"
     ],
     "language": "python",
     "metadata": {},
     "outputs": [
      {
       "metadata": {},
       "output_type": "pyout",
       "prompt_number": 71,
       "text": [
        "[('one', [2, 0, 0]), ('three', [0, 0, 2]), ('two', [0, 2, 0])]"
       ]
      }
     ],
     "prompt_number": 71
    },
    {
     "cell_type": "code",
     "collapsed": false,
     "input": [
      "rdd.flatMap(NgramCount).collect()"
     ],
     "language": "python",
     "metadata": {},
     "outputs": [
      {
       "metadata": {},
       "output_type": "pyout",
       "prompt_number": 82,
       "text": [
        "[('00526600 00 00 00 00', [1]),\n",
        " ('00582FF0 ?? ?? ?? ?? ?? ?? ?? ?? ?? ?? ?? ?? ?? ?? ?? ??\\r\\n', [1])]"
       ]
      }
     ],
     "prompt_number": 82
    },
    {
     "cell_type": "code",
     "collapsed": false,
     "input": [],
     "language": "python",
     "metadata": {},
     "outputs": []
    }
   ],
   "metadata": {}
  }
 ]
}