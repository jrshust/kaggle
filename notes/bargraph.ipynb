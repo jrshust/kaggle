{
 "metadata": {
  "kernelspec": {
   "display_name": "Python 2",
   "language": "python",
   "name": "python2"
  },
  "language_info": {
   "codemirror_mode": {
    "name": "ipython",
    "version": 2
   },
   "file_extension": ".py",
   "mimetype": "text/x-python",
   "name": "python",
   "nbconvert_exporter": "python",
   "pygments_lexer": "ipython2",
   "version": "2.7.3"
  },
  "name": "",
  "signature": "sha256:0acbcb745dd6a91ffefbfd827fe13077ce60a8341a51f9048f9282ac4d61fb59"
 },
 "nbformat": 3,
 "nbformat_minor": 0,
 "worksheets": [
  {
   "cells": [
    {
     "cell_type": "code",
     "collapsed": false,
     "input": [
      "from pyspark import SparkContext"
     ],
     "language": "python",
     "metadata": {},
     "outputs": [],
     "prompt_number": 1
    },
    {
     "cell_type": "code",
     "collapsed": false,
     "input": [
      "sc = SparkContext(\"local\", \"main\")"
     ],
     "language": "python",
     "metadata": {},
     "outputs": [],
     "prompt_number": 2
    },
    {
     "cell_type": "code",
     "collapsed": false,
     "input": [
      "fname2label = {\"/Users/jshuster/projects/personal/kaggle/data/test_bytes/ABRIDGED_BHARGAV.bytes\": 4,\"/Users/jshuster/projects/personal/kaggle/data/test_bytes/0A32eTdBKayjCWhZqDOQ.bytes\": 1, \"/Users/jshuster/projects/personal/kaggle/data/test_bytes/0ACDbR5M3ZhBJajygTuf.bytes\": 3}"
     ],
     "language": "python",
     "metadata": {},
     "outputs": [],
     "prompt_number": 3
    },
    {
     "cell_type": "code",
     "collapsed": false,
     "input": [
      "rdd = sc.textFile(\"/Users/jshuster/projects/personal/kaggle/data/test_bytes/fileList.txt\")"
     ],
     "language": "python",
     "metadata": {},
     "outputs": [],
     "prompt_number": 27
    },
    {
     "cell_type": "code",
     "collapsed": false,
     "input": [
      "rdd.collect()"
     ],
     "language": "python",
     "metadata": {},
     "outputs": [
      {
       "metadata": {},
       "output_type": "pyout",
       "prompt_number": 5,
       "text": [
        "[u'/Users/jshuster/projects/personal/kaggle/data/test_bytes/0A32eTdBKayjCWhZqDOQ.bytes',\n",
        " u'/Users/jshuster/projects/personal/kaggle/data/test_bytes/0ACDbR5M3ZhBJajygTuf.bytes']"
       ]
      }
     ],
     "prompt_number": 5
    },
    {
     "cell_type": "code",
     "collapsed": false,
     "input": [
      "pairRdd = rdd.flatMap(lambda x:\n",
      "    [(\"one\", [1,0,0]), (\"two\",[0,1,0]), (\"three\",[0,0,1])]\n",
      ")"
     ],
     "language": "python",
     "metadata": {},
     "outputs": [],
     "prompt_number": 6
    },
    {
     "cell_type": "code",
     "collapsed": false,
     "input": [
      "n = 4\n",
      "c = 9\n",
      "\n",
      "def add_to_ngram_map(filename,ngram_set,ngram_map):\n",
      "    ''' convenience function to add an ngram to the ngram_map '''\n",
      "    label_idx = fname2label[filename]-1\n",
      "    \n",
      "    for ngram in ngram_set:\n",
      "        if not ngram in ngram_map:\n",
      "            ngram_map[ngram] = [0]*c\n",
      "        ngram_map[ngram][label_idx] += 1\n",
      "\n",
      "def ngram_count(filenames):\n",
      "    ''' given a set of files, returns a map of ngrams->frequencies '''\n",
      "    ngram_map = {}\n",
      "    for filename in filenames:\n",
      "        byte_list = []   \n",
      "        # read each line, appending bytes (pairs of hex chars) to a list\n",
      "        with open(filename, \"r\") as f:\n",
      "            rows = f.readlines()\n",
      "            for row in rows:\n",
      "                byte_list+=row.split()[1:]\n",
      "                byte_list[-1] = byte_list[-1].rstrip('\\n') # get rid of the annoying return lines\n",
      "        \n",
      "        ngram_seq = byte_list[:n] # get the first n-gram of the file\n",
      "        ngram = ''.join(ngram_seq)\n",
      "        \n",
      "        ngram_set = set([ngram])\n",
      "        for byte in byte_list[n:]:\n",
      "            \n",
      "            # get the next ngram\n",
      "            ngram_seq = ngram_seq[1:]\n",
      "            ngram_seq.append(byte)\n",
      "            ngram = ''.join(ngram_seq)\n",
      "            \n",
      "            ngram_set.add(ngram)\n",
      "            \n",
      "            # add it to the map\n",
      "        add_to_ngram_map(filename,ngram_set,ngram_map)\n",
      "    \n",
      "    #Turn into tuples for pairRDD\n",
      "    return [(k, v) for k, v in ngram_map.iteritems()]"
     ],
     "language": "python",
     "metadata": {},
     "outputs": [],
     "prompt_number": 19
    },
    {
     "cell_type": "code",
     "collapsed": false,
     "input": [
      "pairRdd.collect()"
     ],
     "language": "python",
     "metadata": {},
     "outputs": [
      {
       "metadata": {},
       "output_type": "pyout",
       "prompt_number": 8,
       "text": [
        "[('one', [1, 0, 0]),\n",
        " ('two', [0, 1, 0]),\n",
        " ('three', [0, 0, 1]),\n",
        " ('one', [1, 0, 0]),\n",
        " ('two', [0, 1, 0]),\n",
        " ('three', [0, 0, 1])]"
       ]
      }
     ],
     "prompt_number": 8
    },
    {
     "cell_type": "code",
     "collapsed": false,
     "input": [
      "rdd"
     ],
     "language": "python",
     "metadata": {},
     "outputs": [
      {
       "metadata": {},
       "output_type": "pyout",
       "prompt_number": 33,
       "text": [
        "/Users/jshuster/projects/personal/kaggle/data/test_bytes/fileList.txt MappedRDD[11] at textFile at NativeMethodAccessorImpl.java:-2"
       ]
      }
     ],
     "prompt_number": 33
    },
    {
     "cell_type": "code",
     "collapsed": false,
     "input": [
      "def accumulate(k, x):\n",
      "    return [i+j for i,j in zip(k,x)]"
     ],
     "language": "python",
     "metadata": {},
     "outputs": [],
     "prompt_number": 14
    },
    {
     "cell_type": "code",
     "collapsed": false,
     "input": [
      "accumulate([[2,0],[0,1]])"
     ],
     "language": "python",
     "metadata": {},
     "outputs": [
      {
       "metadata": {},
       "output_type": "pyout",
       "prompt_number": 44,
       "text": [
        "[2, 1, 0]"
       ]
      }
     ],
     "prompt_number": 44
    },
    {
     "cell_type": "code",
     "collapsed": false,
     "input": [
      "pairRdd.reduceByKey(accumulate).collect()"
     ],
     "language": "python",
     "metadata": {},
     "outputs": [
      {
       "ename": "NameError",
       "evalue": "name 'pairRdd' is not defined",
       "output_type": "pyerr",
       "traceback": [
        "\u001b[0;31m---------------------------------------------------------------------------\u001b[0m\n\u001b[0;31mNameError\u001b[0m                                 Traceback (most recent call last)",
        "\u001b[0;32m<ipython-input-8-c13e3cf1bfa5>\u001b[0m in \u001b[0;36m<module>\u001b[0;34m()\u001b[0m\n\u001b[0;32m----> 1\u001b[0;31m \u001b[0mpairRdd\u001b[0m\u001b[0;34m.\u001b[0m\u001b[0mreduceByKey\u001b[0m\u001b[0;34m(\u001b[0m\u001b[0maccumulate\u001b[0m\u001b[0;34m)\u001b[0m\u001b[0;34m.\u001b[0m\u001b[0mcollect\u001b[0m\u001b[0;34m(\u001b[0m\u001b[0;34m)\u001b[0m\u001b[0;34m\u001b[0m\u001b[0m\n\u001b[0m",
        "\u001b[0;31mNameError\u001b[0m: name 'pairRdd' is not defined"
       ]
      }
     ],
     "prompt_number": 8
    },
    {
     "cell_type": "code",
     "collapsed": false,
     "input": [
      "rdd.flatMap(NgramCount).collect()"
     ],
     "language": "python",
     "metadata": {},
     "outputs": [
      {
       "ename": "NameError",
       "evalue": "name 'NgramCount' is not defined",
       "output_type": "pyerr",
       "traceback": [
        "\u001b[0;31m---------------------------------------------------------------------------\u001b[0m\n\u001b[0;31mNameError\u001b[0m                                 Traceback (most recent call last)",
        "\u001b[0;32m<ipython-input-25-773fa38a17ca>\u001b[0m in \u001b[0;36m<module>\u001b[0;34m()\u001b[0m\n\u001b[0;32m----> 1\u001b[0;31m \u001b[0mrdd\u001b[0m\u001b[0;34m.\u001b[0m\u001b[0mflatMap\u001b[0m\u001b[0;34m(\u001b[0m\u001b[0mNgramCount\u001b[0m\u001b[0;34m)\u001b[0m\u001b[0;34m.\u001b[0m\u001b[0mcollect\u001b[0m\u001b[0;34m(\u001b[0m\u001b[0;34m)\u001b[0m\u001b[0;34m\u001b[0m\u001b[0m\n\u001b[0m",
        "\u001b[0;31mNameError\u001b[0m: name 'NgramCount' is not defined"
       ]
      }
     ],
     "prompt_number": 25
    },
    {
     "cell_type": "code",
     "collapsed": false,
     "input": [
      "def bargraphRuined(x):\n",
      "    accum = 0\n",
      "    for i in x:\n",
      "        accum += 1\n",
      "    return [(\"one\", [accum,0,0]), (\"two\",[0,1,0]), (\"three\",[0,0,1])]"
     ],
     "language": "python",
     "metadata": {},
     "outputs": [],
     "prompt_number": 87
    },
    {
     "cell_type": "code",
     "collapsed": false,
     "input": [
      "testRdd = rdd.mapPartitions(bargraphRuined)"
     ],
     "language": "python",
     "metadata": {},
     "outputs": [],
     "prompt_number": 88
    },
    {
     "cell_type": "code",
     "collapsed": false,
     "input": [
      "testRdd.collect()"
     ],
     "language": "python",
     "metadata": {},
     "outputs": [
      {
       "metadata": {},
       "output_type": "pyout",
       "prompt_number": 89,
       "text": [
        "[('one', [2, 0, 0]), ('two', [0, 1, 0]), ('three', [0, 0, 1])]"
       ]
      }
     ],
     "prompt_number": 89
    },
    {
     "cell_type": "code",
     "collapsed": false,
     "input": [
      "rdd.collect()"
     ],
     "language": "python",
     "metadata": {},
     "outputs": [
      {
       "metadata": {},
       "output_type": "pyout",
       "prompt_number": 90,
       "text": [
        "[u'/Users/jshuster/projects/personal/kaggle/data/test_bytes/0A32eTdBKayjCWhZqDOQ.bytes',\n",
        " u'/Users/jshuster/projects/personal/kaggle/data/test_bytes/0ACDbR5M3ZhBJajygTuf.bytes']"
       ]
      }
     ],
     "prompt_number": 90
    },
    {
     "cell_type": "code",
     "collapsed": false,
     "input": [
      "ngramCountedRdd = rdd.repartition(2).mapPartitions(ngram_count)"
     ],
     "language": "python",
     "metadata": {},
     "outputs": [],
     "prompt_number": 28
    },
    {
     "cell_type": "code",
     "collapsed": false,
     "input": [
      "reducedNgramRdd = ngramCountedRdd.reduceByKey(accumulate)"
     ],
     "language": "python",
     "metadata": {},
     "outputs": [],
     "prompt_number": 29
    },
    {
     "cell_type": "code",
     "collapsed": false,
     "input": [
      "sampledNgramRdd = reducedNgramRdd.take(100)"
     ],
     "language": "python",
     "metadata": {},
     "outputs": [],
     "prompt_number": 23
    },
    {
     "cell_type": "code",
     "collapsed": false,
     "input": [
      "variable = ngram_count(rdd.collect())"
     ],
     "language": "python",
     "metadata": {},
     "outputs": [],
     "prompt_number": 18
    },
    {
     "cell_type": "code",
     "collapsed": false,
     "input": [
      "testResult = ngram_count(rdd.collect())"
     ],
     "language": "python",
     "metadata": {},
     "outputs": [],
     "prompt_number": 20
    },
    {
     "cell_type": "code",
     "collapsed": false,
     "input": [
      "philteredSoul = reducedNgramRdd.filter(lambda x: x[1][0] > 1 or x[1][2] > 1)"
     ],
     "language": "python",
     "metadata": {},
     "outputs": [],
     "prompt_number": 30
    },
    {
     "cell_type": "code",
     "collapsed": false,
     "input": [
      "philteredSoul.take(200)"
     ],
     "language": "python",
     "metadata": {},
     "outputs": [
      {
       "metadata": {},
       "output_type": "pyout",
       "prompt_number": 31,
       "text": [
        "[('0381024D', [2, 0, 0, 0, 0, 0, 0, 0, 0]),\n",
        " ('BF88B4B0', [2, 0, 0, 0, 0, 0, 0, 0, 0]),\n",
        " ('0381024F', [2, 0, 0, 0, 0, 0, 0, 0, 0]),\n",
        " ('22CB21EC', [2, 0, 0, 0, 0, 0, 0, 0, 0]),\n",
        " ('079900C0', [2, 0, 0, 0, 0, 0, 0, 0, 0]),\n",
        " ('02E50154', [2, 0, 0, 0, 0, 0, 0, 0, 0]),\n",
        " ('30227121', [2, 0, 0, 0, 0, 0, 0, 0, 0]),\n",
        " ('81073407', [2, 0, 0, 0, 0, 0, 0, 0, 0]),\n",
        " ('03590289', [2, 0, 0, 0, 0, 0, 0, 0, 0]),\n",
        " ('209523ED', [2, 0, 0, 0, 0, 0, 0, 0, 0]),\n",
        " ('A8317730', [2, 0, 0, 0, 0, 0, 0, 0, 0]),\n",
        " ('19312730', [2, 0, 0, 0, 0, 0, 0, 0, 0]),\n",
        " ('2021FE20', [2, 0, 0, 0, 0, 0, 0, 0, 0]),\n",
        " ('03CF0271', [2, 0, 0, 0, 0, 0, 0, 0, 0]),\n",
        " ('101B0361', [2, 0, 0, 0, 0, 0, 0, 0, 0]),\n",
        " ('11371083', [2, 0, 0, 0, 0, 0, 0, 0, 0]),\n",
        " ('0056FF76', [2, 0, 0, 0, 0, 0, 0, 0, 0]),\n",
        " ('11371087', [2, 0, 0, 0, 0, 0, 0, 0, 0]),\n",
        " ('18016600', [2, 0, 0, 0, 0, 0, 0, 0, 0]),\n",
        " ('23D6224C', [2, 0, 0, 0, 0, 0, 0, 0, 0]),\n",
        " ('23D6224A', [2, 0, 0, 0, 0, 0, 0, 0, 0]),\n",
        " ('2B129011', [2, 0, 0, 0, 0, 0, 0, 0, 0]),\n",
        " ('01CB0093', [2, 0, 0, 0, 0, 0, 0, 0, 0]),\n",
        " ('23D62243', [2, 0, 0, 0, 0, 0, 0, 0, 0]),\n",
        " ('22062161', [2, 0, 0, 0, 0, 0, 0, 0, 0]),\n",
        " ('129711EB', [2, 0, 0, 0, 0, 0, 0, 0, 0]),\n",
        " ('22062165', [2, 0, 0, 0, 0, 0, 0, 0, 0]),\n",
        " ('8702FB01', [2, 0, 0, 0, 0, 0, 0, 0, 0]),\n",
        " ('F710C113', [2, 0, 0, 0, 0, 0, 0, 0, 0]),\n",
        " ('32AF31CA', [2, 0, 0, 0, 0, 0, 0, 0, 0]),\n",
        " ('332032A8', [2, 0, 0, 0, 0, 0, 0, 0, 0]),\n",
        " ('209523E8', [2, 0, 0, 0, 0, 0, 0, 0, 0]),\n",
        " ('40007C48', [2, 0, 0, 0, 0, 0, 0, 0, 0]),\n",
        " ('0E020F01', [2, 0, 0, 0, 0, 0, 0, 0, 0]),\n",
        " ('13F612EF', [2, 0, 0, 0, 0, 0, 0, 0, 0]),\n",
        " ('119D10FB', [2, 0, 0, 0, 0, 0, 0, 0, 0]),\n",
        " ('4A135512', [2, 0, 0, 0, 0, 0, 0, 0, 0]),\n",
        " ('132D123F', [2, 0, 0, 0, 0, 0, 0, 0, 0]),\n",
        " ('D3337532', [2, 0, 0, 0, 0, 0, 0, 0, 0]),\n",
        " ('8BCFE860', [2, 0, 0, 0, 0, 0, 0, 0, 0]),\n",
        " ('12281109', [2, 0, 0, 0, 0, 0, 0, 0, 0]),\n",
        " ('03810240', [2, 0, 0, 0, 0, 0, 0, 0, 0]),\n",
        " ('325C3130', [2, 0, 0, 0, 0, 0, 0, 0, 0]),\n",
        " ('5D035302', [2, 0, 0, 0, 0, 0, 0, 0, 0]),\n",
        " ('22CB21E1', [2, 0, 0, 0, 0, 0, 0, 0, 0]),\n",
        " ('03CF027C', [2, 0, 0, 0, 0, 0, 0, 0, 0]),\n",
        " ('2850E880', [2, 0, 0, 0, 0, 0, 0, 0, 0]),\n",
        " ('707BFF00', [2, 0, 0, 0, 0, 0, 0, 0, 0]),\n",
        " ('332032A0', [2, 0, 0, 0, 0, 0, 0, 0, 0]),\n",
        " ('20C4230D', [2, 0, 0, 0, 0, 0, 0, 0, 0]),\n",
        " ('03CF027A', [2, 0, 0, 0, 0, 0, 0, 0, 0]),\n",
        " ('DC02D001', [2, 0, 0, 0, 0, 0, 0, 0, 0]),\n",
        " ('00300333', [2, 0, 0, 0, 0, 0, 0, 0, 0]),\n",
        " ('00300331', [2, 0, 0, 0, 0, 0, 0, 0, 0]),\n",
        " ('0F03ED02', [2, 0, 0, 0, 0, 0, 0, 0, 0]),\n",
        " ('3175302C', [2, 0, 0, 0, 0, 0, 0, 0, 0]),\n",
        " ('FD338932', [2, 0, 0, 0, 0, 0, 0, 0, 0]),\n",
        " ('22327B31', [2, 0, 0, 0, 0, 0, 0, 0, 0]),\n",
        " ('020C0142', [2, 0, 0, 0, 0, 0, 0, 0, 0]),\n",
        " ('30A63368', [2, 0, 0, 0, 0, 0, 0, 0, 0]),\n",
        " ('2522CE21', [2, 0, 0, 0, 0, 0, 0, 0, 0]),\n",
        " ('EB015A00', [2, 0, 0, 0, 0, 0, 0, 0, 0]),\n",
        " ('02CB0139', [2, 0, 0, 0, 0, 0, 0, 0, 0]),\n",
        " ('02780124', [2, 0, 0, 0, 0, 0, 0, 0, 0]),\n",
        " ('1D209723', [2, 0, 0, 0, 0, 0, 0, 0, 0]),\n",
        " ('3C214120', [2, 0, 0, 0, 0, 0, 0, 0, 0]),\n",
        " ('020F01CB', [2, 0, 0, 0, 0, 0, 0, 0, 0]),\n",
        " ('EF122011', [2, 0, 0, 0, 0, 0, 0, 0, 0]),\n",
        " ('330432A6', [2, 0, 0, 0, 0, 0, 0, 0, 0]),\n",
        " ('19311830', [2, 0, 0, 0, 0, 0, 0, 0, 0]),\n",
        " ('330432A4', [2, 0, 0, 0, 0, 0, 0, 0, 0]),\n",
        " ('330432A2', [2, 0, 0, 0, 0, 0, 0, 0, 0]),\n",
        " ('39135812', [2, 0, 0, 0, 0, 0, 0, 0, 0]),\n",
        " ('A422CE21', [2, 0, 0, 0, 0, 0, 0, 0, 0]),\n",
        " ('02E901B1', [2, 0, 0, 0, 0, 0, 0, 0, 0]),\n",
        " ('DE32FB31', [2, 0, 0, 0, 0, 0, 0, 0, 0]),\n",
        " ('B3111E10', [2, 0, 0, 0, 0, 0, 0, 0, 0]),\n",
        " ('22BA2119', [2, 0, 0, 0, 0, 0, 0, 0, 0]),\n",
        " ('21DC2000', [2, 0, 0, 0, 0, 0, 0, 0, 0]),\n",
        " ('60319630', [2, 0, 0, 0, 0, 0, 0, 0, 0]),\n",
        " ('DF32ED31', [2, 0, 0, 0, 0, 0, 0, 0, 0]),\n",
        " ('6422E421', [2, 0, 0, 0, 0, 0, 0, 0, 0]),\n",
        " ('020F01C0', [2, 0, 0, 0, 0, 0, 0, 0, 0]),\n",
        " ('33DC327E', [2, 0, 0, 0, 0, 0, 0, 0, 0]),\n",
        " ('30A6336F', [2, 0, 0, 0, 0, 0, 0, 0, 0]),\n",
        " ('44005403', [2, 0, 0, 0, 0, 0, 0, 0, 0]),\n",
        " ('D0035402', [2, 0, 0, 0, 0, 0, 0, 0, 0]),\n",
        " ('2223212D', [2, 0, 0, 0, 0, 0, 0, 0, 0]),\n",
        " ('31753021', [2, 0, 0, 0, 0, 0, 0, 0, 0]),\n",
        " ('FF219B20', [2, 0, 0, 0, 0, 0, 0, 0, 0]),\n",
        " ('20330E32', [2, 0, 0, 0, 0, 0, 0, 0, 0]),\n",
        " ('7C23C222', [2, 0, 0, 0, 0, 0, 0, 0, 0]),\n",
        " ('8420E513', [2, 0, 0, 0, 0, 0, 0, 0, 0]),\n",
        " ('9223C322', [2, 0, 0, 0, 0, 0, 0, 0, 0]),\n",
        " ('FB121811', [2, 0, 0, 0, 0, 0, 0, 0, 0]),\n",
        " ('222721D6', [2, 0, 0, 0, 0, 0, 0, 0, 0]),\n",
        " ('CED7F7FF', [2, 0, 0, 0, 0, 0, 0, 0, 0]),\n",
        " ('0779009B', [2, 0, 0, 0, 0, 0, 0, 0, 0]),\n",
        " ('70108703', [2, 0, 0, 0, 0, 0, 0, 0, 0]),\n",
        " ('3E123411', [2, 0, 0, 0, 0, 0, 0, 0, 0]),\n",
        " ('207C2370', [2, 0, 0, 0, 0, 0, 0, 0, 0]),\n",
        " ('CC96FF4A', [2, 0, 0, 0, 0, 0, 0, 0, 0]),\n",
        " ('0A322D31', [2, 0, 0, 0, 0, 0, 0, 0, 0]),\n",
        " ('6E034002', [2, 0, 0, 0, 0, 0, 0, 0, 0]),\n",
        " ('5821A720', [2, 0, 0, 0, 0, 0, 0, 0, 0]),\n",
        " ('3041331C', [2, 0, 0, 0, 0, 0, 0, 0, 0]),\n",
        " ('BAFF3F00', [2, 0, 0, 0, 0, 0, 0, 0, 0]),\n",
        " ('8FEB0483', [2, 0, 0, 0, 0, 0, 0, 0, 0]),\n",
        " ('B4018C00', [2, 0, 0, 0, 0, 0, 0, 0, 0]),\n",
        " ('0023C222', [2, 0, 0, 0, 0, 0, 0, 0, 0]),\n",
        " ('22D42167', [2, 0, 0, 0, 0, 0, 0, 0, 0]),\n",
        " ('02740140', [2, 0, 0, 0, 0, 0, 0, 0, 0]),\n",
        " ('B001A200', [2, 0, 0, 0, 0, 0, 0, 0, 0]),\n",
        " ('00214120', [2, 0, 0, 0, 0, 0, 0, 0, 0]),\n",
        " ('02740148', [2, 0, 0, 0, 0, 0, 0, 0, 0]),\n",
        " ('0223E222', [2, 0, 0, 0, 0, 0, 0, 0, 0]),\n",
        " ('00C30314', [2, 0, 0, 0, 0, 0, 0, 0, 0]),\n",
        " ('0274014F', [2, 0, 0, 0, 0, 0, 0, 0, 0]),\n",
        " ('22D42163', [2, 0, 0, 0, 0, 0, 0, 0, 0]),\n",
        " ('00C30310', [2, 0, 0, 0, 0, 0, 0, 0, 0]),\n",
        " ('30413311', [2, 0, 0, 0, 0, 0, 0, 0, 0]),\n",
        " ('2206216C', [2, 0, 0, 0, 0, 0, 0, 0, 0]),\n",
        " ('30413313', [2, 0, 0, 0, 0, 0, 0, 0, 0]),\n",
        " ('13A41224', [2, 0, 0, 0, 0, 0, 0, 0, 0]),\n",
        " ('13A41226', [2, 0, 0, 0, 0, 0, 0, 0, 0]),\n",
        " ('30413319', [2, 0, 0, 0, 0, 0, 0, 0, 0]),\n",
        " ('117010C3', [2, 0, 0, 0, 0, 0, 0, 0, 0]),\n",
        " ('2206216A', [2, 0, 0, 0, 0, 0, 0, 0, 0]),\n",
        " ('20232368', [2, 0, 0, 0, 0, 0, 0, 0, 0]),\n",
        " ('20F023B9', [2, 0, 0, 0, 0, 0, 0, 0, 0]),\n",
        " ('04122511', [2, 0, 0, 0, 0, 0, 0, 0, 0]),\n",
        " ('12C911A6', [2, 0, 0, 0, 0, 0, 0, 0, 0]),\n",
        " ('000203A2', [2, 0, 0, 0, 0, 0, 0, 0, 0]),\n",
        " ('84CC0000', [2, 0, 0, 0, 0, 0, 0, 0, 0]),\n",
        " ('024601ED', [2, 0, 0, 0, 0, 0, 0, 0, 0]),\n",
        " ('04206C23', [2, 0, 0, 0, 0, 0, 0, 0, 0]),\n",
        " ('E502A401', [2, 0, 0, 0, 0, 0, 0, 0, 0]),\n",
        " ('33A53203', [2, 0, 0, 0, 0, 0, 0, 0, 0]),\n",
        " ('C6227721', [2, 0, 0, 0, 0, 0, 0, 0, 0]),\n",
        " ('33A53205', [2, 0, 0, 0, 0, 0, 0, 0, 0]),\n",
        " ('33A53209', [2, 0, 0, 0, 0, 0, 0, 0, 0]),\n",
        " ('6A101913', [2, 0, 0, 0, 0, 0, 0, 0, 0]),\n",
        " ('891E885D', [2, 0, 0, 0, 0, 0, 0, 0, 0]),\n",
        " ('1810A803', [2, 0, 0, 0, 0, 0, 0, 0, 0]),\n",
        " ('320D3187', [2, 0, 0, 0, 0, 0, 0, 0, 0]),\n",
        " ('A8935FFF', [2, 0, 0, 0, 0, 0, 0, 0, 0]),\n",
        " ('05229321', [2, 0, 0, 0, 0, 0, 0, 0, 0]),\n",
        " ('18120211', [2, 0, 0, 0, 0, 0, 0, 0, 0]),\n",
        " ('75211220', [2, 0, 0, 0, 0, 0, 0, 0, 0]),\n",
        " ('3112307A', [2, 0, 0, 0, 0, 0, 0, 0, 0]),\n",
        " ('20682FF8', [2, 0, 0, 0, 0, 0, 0, 0, 0]),\n",
        " ('32803150', [2, 0, 0, 0, 0, 0, 0, 0, 0]),\n",
        " ('32803152', [2, 0, 0, 0, 0, 0, 0, 0, 0]),\n",
        " ('32803154', [2, 0, 0, 0, 0, 0, 0, 0, 0]),\n",
        " ('32803156', [2, 0, 0, 0, 0, 0, 0, 0, 0]),\n",
        " ('6E443389', [2, 0, 0, 0, 0, 0, 0, 0, 0]),\n",
        " ('22062163', [2, 0, 0, 0, 0, 0, 0, 0, 0]),\n",
        " ('49113110', [2, 0, 0, 0, 0, 0, 0, 0, 0]),\n",
        " ('73115610', [2, 0, 0, 0, 0, 0, 0, 0, 0]),\n",
        " ('C433C332', [2, 0, 0, 0, 0, 0, 0, 0, 0]),\n",
        " ('139812DB', [2, 0, 0, 0, 0, 0, 0, 0, 0]),\n",
        " ('C5020C01', [2, 0, 0, 0, 0, 0, 0, 0, 0]),\n",
        " ('31123075', [2, 0, 0, 0, 0, 0, 0, 0, 0]),\n",
        " ('31123071', [2, 0, 0, 0, 0, 0, 0, 0, 0]),\n",
        " ('31783071', [2, 0, 0, 0, 0, 0, 0, 0, 0]),\n",
        " ('31123079', [2, 0, 0, 0, 0, 0, 0, 0, 0]),\n",
        " ('3280315F', [2, 0, 0, 0, 0, 0, 0, 0, 0]),\n",
        " ('137A12AB', [2, 0, 0, 0, 0, 0, 0, 0, 0]),\n",
        " ('13421263', [2, 0, 0, 0, 0, 0, 0, 0, 0]),\n",
        " ('60112310', [2, 0, 0, 0, 0, 0, 0, 0, 0]),\n",
        " ('84200A23', [2, 0, 0, 0, 0, 0, 0, 0, 0]),\n",
        " ('00BB4040', [2, 0, 0, 0, 0, 0, 0, 0, 0]),\n",
        " ('63FF588B', [2, 0, 0, 0, 0, 0, 0, 0, 0]),\n",
        " ('4DD08907', [2, 0, 0, 0, 0, 0, 0, 0, 0]),\n",
        " ('4DD08901', [2, 0, 0, 0, 0, 0, 0, 0, 0]),\n",
        " ('332E32C1', [2, 0, 0, 0, 0, 0, 0, 0, 0]),\n",
        " ('00593311', [2, 0, 0, 0, 0, 0, 0, 0, 0]),\n",
        " ('00593315', [2, 0, 0, 0, 0, 0, 0, 0, 0]),\n",
        " ('0331F830', [2, 0, 0, 0, 0, 0, 0, 0, 0]),\n",
        " ('06036702', [2, 0, 0, 0, 0, 0, 0, 0, 0]),\n",
        " ('31E63004', [2, 0, 0, 0, 0, 0, 0, 0, 0]),\n",
        " ('014800E4', [2, 0, 1, 0, 0, 0, 0, 0, 0]),\n",
        " ('22272162', [2, 0, 0, 0, 0, 0, 0, 0, 0]),\n",
        " ('03D202E8', [2, 0, 0, 0, 0, 0, 0, 0, 0]),\n",
        " ('79334C32', [2, 0, 0, 0, 0, 0, 0, 0, 0]),\n",
        " ('CF313C30', [2, 0, 0, 0, 0, 0, 0, 0, 0]),\n",
        " ('A7219420', [2, 0, 0, 0, 0, 0, 0, 0, 0]),\n",
        " ('C00F84D1', [2, 0, 0, 0, 0, 0, 0, 0, 0]),\n",
        " ('12401181', [2, 0, 0, 0, 0, 0, 0, 0, 0]),\n",
        " ('12401187', [2, 0, 0, 0, 0, 0, 0, 0, 0]),\n",
        " ('12401185', [2, 0, 0, 0, 0, 0, 0, 0, 0]),\n",
        " ('019E0083', [2, 0, 0, 0, 0, 0, 0, 0, 0]),\n",
        " ('B1007103', [2, 0, 0, 0, 0, 0, 0, 0, 0]),\n",
        " ('12208623', [2, 0, 0, 0, 0, 0, 0, 0, 0]),\n",
        " ('894DCC89', [2, 0, 1, 0, 0, 0, 0, 0, 0]),\n",
        " ('019E0085', [2, 0, 0, 0, 0, 0, 0, 0, 0]),\n",
        " ('ED33A532', [2, 0, 0, 0, 0, 0, 0, 0, 0]),\n",
        " ('00680383', [2, 0, 0, 0, 0, 0, 0, 0, 0]),\n",
        " ('EA201623', [2, 0, 0, 0, 0, 0, 0, 0, 0]),\n",
        " ('F0217DF0', [2, 0, 0, 0, 0, 0, 0, 0, 0])]"
       ]
      }
     ],
     "prompt_number": 31
    },
    {
     "cell_type": "code",
     "collapsed": false,
     "input": [
      "reducedNgramRdd.filter(lambda x: x[0] == '4').collect()"
     ],
     "language": "python",
     "metadata": {},
     "outputs": [
      {
       "metadata": {},
       "output_type": "pyout",
       "prompt_number": 42,
       "text": [
        "[('4', [3, 0, 1, 0, 0, 0, 0, 0, 0])]"
       ]
      }
     ],
     "prompt_number": 42
    },
    {
     "cell_type": "code",
     "collapsed": false,
     "input": [
      "reducedNgramRdd.filter(lambda x: len(x[0]) != 8).collect()"
     ],
     "language": "python",
     "metadata": {},
     "outputs": [
      {
       "metadata": {},
       "output_type": "pyout",
       "prompt_number": 26,
       "text": [
        "[]"
       ]
      }
     ],
     "prompt_number": 26
    },
    {
     "cell_type": "code",
     "collapsed": false,
     "input": [
      "[k for k in testResult if len(k[0]) < 8]"
     ],
     "language": "python",
     "metadata": {},
     "outputs": [
      {
       "metadata": {},
       "output_type": "pyout",
       "prompt_number": 66,
       "text": [
        "[('D', [1, 0, 0, 0, 0, 0, 0, 0, 0]),\n",
        " ('0', [0, 0, 6, 0, 0, 0, 0, 0, 0]),\n",
        " ('2', [1, 0, 0, 0, 0, 0, 0, 0, 0]),\n",
        " ('4', [3, 0, 1, 0, 0, 0, 0, 0, 0]),\n",
        " ('5', [1, 0, 0, 0, 0, 0, 0, 0, 0]),\n",
        " ('6', [1, 0, 0, 0, 0, 0, 0, 0, 0]),\n",
        " ('8', [1, 0, 1, 0, 0, 0, 0, 0, 0])]"
       ]
      }
     ],
     "prompt_number": 66
    },
    {
     "cell_type": "code",
     "collapsed": false,
     "input": [
      "from math import log\n",
      "\n",
      "#label_counts = [7.,10.,3.] #20 total files <-- LIST\n",
      "label_counts = [10.,10.,10.] #20 total files <-- LIST\n",
      "ngram_map = {\n",
      "     \"ngram1\": [7,10,3],\n",
      "     \"ngram2\": [7,0,0],\n",
      "     \"ngram3\": [3,7,0],\n",
      "     \"ngram4\": [1,10,1],\n",
      "     \"ngram5\": [7,0,3],\n",
      "     \"ngram6\": [1,0,0],\n",
      "     \"ngram7\": [1,1,1],\n",
      "     \"ngram8\": [2,2,2],\n",
      "     \"ngram9\": [3,3,3]\n",
      "}\n",
      "\n",
      "def compute_mutual_information(label_counts,ngram_map):\n",
      "    ''' Computes the mutual information for each n-gram, given its frequencies '''\n",
      "    num_files = sum(label_counts)\n",
      "    p_y = [1.0*lc/num_files for lc in label_counts]\n",
      "    \n",
      "    ngram_mi = {} # map that holds the mutual information per n-gram\n",
      "    for ngram,ngram_counts in ngram_map.iteritems():\n",
      "        # values needed for computing mutual information \n",
      "        p_x_1_given_y = [nc/lc for nc,lc in zip(ngram_counts,label_counts)] # p(x=1|y)\n",
      "        p_x_1_and_y = [x_1_y*y for x_1_y,y in zip(p_x_1_given_y,p_y)] # p(x=1,y)\n",
      "        p_x_1 = sum(p_x_1_and_y) # p(x=1)\n",
      "        \n",
      "        print \"NGRAM: \", ngram\n",
      "        mutual_info = 0\n",
      "        for x_1_and_y,x_1_y in zip(p_x_1_and_y,p_x_1_given_y): # log base-2\n",
      "            mutual_info += 0 if x_1_y == 0 else x_1_and_y*log(x_1_y/p_x_1,2)\n",
      "            print \"MUTUAL INFORMATION1: \", mutual_info\n",
      "            mutual_info += 0 if x_1_y == 1 else (1-x_1_and_y)*log((1-x_1_y)/(1-p_x_1),2)\n",
      "            print \"MUTUAL INFORMATION2: \", mutual_info\n",
      "            \n",
      "        ngram_mi[ngram] = mutual_info\n",
      "    \n",
      "    return ngram_mi\n",
      "        \n",
      "compute_mutual_information(label_counts, ngram_map)"
     ],
     "language": "python",
     "metadata": {},
     "outputs": [
      {
       "output_type": "stream",
       "stream": "stdout",
       "text": [
        "NGRAM:  ngram3\n",
        "MUTUAL INFORMATION1:  -0.0152003093445\n",
        "MUTUAL INFORMATION2:  0.0481500857578\n",
        "MUTUAL INFORMATION1:  0.297907595599\n",
        "MUTUAL INFORMATION2:  -0.585294776042\n",
        "MUTUAL INFORMATION1:  -0.585294776042\n",
        "MUTUAL INFORMATION2:  -0.00033227532097\n",
        "NGRAM:  ngram2\n",
        "MUTUAL INFORMATION1:  0.369824583502\n",
        "MUTUAL INFORMATION2:  -0.66796374837\n",
        "MUTUAL INFORMATION1:  -0.66796374837\n",
        "MUTUAL INFORMATION2:  -0.284635108818\n",
        "MUTUAL INFORMATION1:  -0.284635108818\n",
        "MUTUAL INFORMATION2:  0.0986935307333\n",
        "NGRAM:  ngram1\n",
        "MUTUAL INFORMATION1:  0.016424176508\n",
        "MUTUAL INFORMATION2:  -0.100111528467\n",
        "MUTUAL INFORMATION1:  0.0948759717738\n",
        "MUTUAL INFORMATION2:  0.0948759717738\n",
        "MUTUAL INFORMATION1:  -0.0203243375707\n",
        "MUTUAL INFORMATION2:  0.943026057532\n",
        "NGRAM:  ngram7\n",
        "MUTUAL INFORMATION1:  0.0\n",
        "MUTUAL INFORMATION2:  0.0\n",
        "MUTUAL INFORMATION1:  0.0\n",
        "MUTUAL INFORMATION2:  0.0\n",
        "MUTUAL INFORMATION1:  0.0\n",
        "MUTUAL INFORMATION2:  0.0\n",
        "NGRAM:  ngram6\n",
        "MUTUAL INFORMATION1:  0.0528320833574\n",
        "MUTUAL INFORMATION2:  -0.0468249598413\n",
        "MUTUAL INFORMATION1:  -0.0468249598413\n",
        "MUTUAL INFORMATION2:  0.00208464063968\n",
        "MUTUAL INFORMATION1:  0.00208464063968\n",
        "MUTUAL INFORMATION2:  0.0509942411206\n",
        "NGRAM:  ngram5\n",
        "MUTUAL INFORMATION1:  0.249757509841\n",
        "MUTUAL INFORMATION2:  -0.6334448618\n",
        "MUTUAL INFORMATION1:  -0.6334448618\n",
        "MUTUAL INFORMATION2:  -0.0484823610787\n",
        "MUTUAL INFORMATION1:  -0.0636826704232\n",
        "MUTUAL INFORMATION2:  -0.00033227532097\n",
        "NGRAM:  ngram4\n",
        "MUTUAL INFORMATION1:  -0.0666666666667\n",
        "MUTUAL INFORMATION2:  0.49879708403\n",
        "MUTUAL INFORMATION1:  0.939439782326\n",
        "MUTUAL INFORMATION2:  0.939439782326\n",
        "MUTUAL INFORMATION1:  0.87277311566\n",
        "MUTUAL INFORMATION2:  1.43823686636\n",
        "NGRAM:  ngram9\n",
        "MUTUAL INFORMATION1:  0.0\n",
        "MUTUAL INFORMATION2:  0.0\n",
        "MUTUAL INFORMATION1:  0.0\n",
        "MUTUAL INFORMATION2:  0.0\n",
        "MUTUAL INFORMATION1:  0.0\n",
        "MUTUAL INFORMATION2:  0.0\n",
        "NGRAM:  ngram8\n",
        "MUTUAL INFORMATION1:  0.0\n",
        "MUTUAL INFORMATION2:  0.0\n",
        "MUTUAL INFORMATION1:  0.0\n",
        "MUTUAL INFORMATION2:  0.0\n",
        "MUTUAL INFORMATION1:  0.0\n",
        "MUTUAL INFORMATION2:  0.0\n"
       ]
      },
      {
       "metadata": {},
       "output_type": "pyout",
       "prompt_number": 69,
       "text": [
        "{'ngram1': 0.9430260575315927,\n",
        " 'ngram2': 0.09869353073334397,\n",
        " 'ngram3': -0.0003322753209699103,\n",
        " 'ngram4': 1.438236866356689,\n",
        " 'ngram5': -0.0003322753209700213,\n",
        " 'ngram6': 0.05099424112063141,\n",
        " 'ngram7': 0.0,\n",
        " 'ngram8': 0.0,\n",
        " 'ngram9': 0.0}"
       ]
      }
     ],
     "prompt_number": 69
    },
    {
     "cell_type": "code",
     "collapsed": false,
     "input": [],
     "language": "python",
     "metadata": {},
     "outputs": []
    }
   ],
   "metadata": {}
  }
 ]
}