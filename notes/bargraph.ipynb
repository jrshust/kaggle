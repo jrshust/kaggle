{
 "cells": [
  {
   "cell_type": "code",
   "execution_count": 1,
   "metadata": {
    "collapsed": false
   },
   "outputs": [],
   "source": [
    "from pyspark import SparkContext"
   ]
  },
  {
   "cell_type": "code",
   "execution_count": 2,
   "metadata": {
    "collapsed": false
   },
   "outputs": [],
   "source": [
    "sc = SparkContext(\"local\", \"main\")"
   ]
  },
  {
   "cell_type": "code",
   "execution_count": 3,
   "metadata": {
    "collapsed": false
   },
   "outputs": [
    {
     "data": {
      "text/plain": [
       "/Users/jshuster/projects/personal/kaggle/data/0ACDbR5M3ZhBJajygTuf.bytes MappedRDD[1] at textFile at NativeMethodAccessorImpl.java:-2"
      ]
     },
     "execution_count": 3,
     "metadata": {},
     "output_type": "execute_result"
    }
   ],
   "source": [
    "sc.textFile(\"/Users/jshuster/projects/personal/kaggle/data/0ACDbR5M3ZhBJajygTuf.bytes\")"
   ]
  },
  {
   "cell_type": "code",
   "execution_count": 11,
   "metadata": {
    "collapsed": false
   },
   "outputs": [],
   "source": [
    "rdd = sc.textFile(\"/Users/jshuster/projects/personal/kaggle/data/test_bytes/fileList.txt\")"
   ]
  },
  {
   "cell_type": "code",
   "execution_count": 62,
   "metadata": {
    "collapsed": false
   },
   "outputs": [
    {
     "data": {
      "text/plain": [
       "MappedRDD[51] at repartition at NativeMethodAccessorImpl.java:-2"
      ]
     },
     "execution_count": 62,
     "metadata": {},
     "output_type": "execute_result"
    }
   ],
   "source": [
    "rdd.repartition(2)"
   ]
  },
  {
   "cell_type": "code",
   "execution_count": 72,
   "metadata": {
    "collapsed": false
   },
   "outputs": [],
   "source": [
    "pairRdd = rdd.flatMap(lambda x:\n",
    "    [(\"one\", [1,0,0]), (\"two\",[0,1,0]), (\"three\",[0,0,1])]\n",
    ")"
   ]
  },
  {
   "cell_type": "code",
   "execution_count": 2,
   "metadata": {
    "collapsed": false
   },
   "outputs": [],
   "source": [
    "n = 4\n",
    "c = 9\n",
    "\n",
    "def add_to_ngram_map(filename,ngram,ngram_map):\n",
    "    ''' convenience function to add an ngram to the ngram_map '''\n",
    "    label_idx = fname2label[file_name]-1\n",
    "    if not ngram in ngram_map:\n",
    "        ngram_map[ngram] = [0]*c\n",
    "    ngram_map[ngram][label_idx] += 1\n",
    "    \n",
    "def ngram_count(filenames):\n",
    "    ''' given a set of files, returns a map of ngrams->frequencies '''\n",
    "    ngram_map = {}\n",
    "    for filename in filenames:\n",
    "        byte_list = []   \n",
    "        # read each line, appending bytes (pairs of hex chars) to a list\n",
    "        with open(filename, \"r\") as f:\n",
    "            rows = f.readlines()\n",
    "            for row in rows:\n",
    "                byte_list+=row.split()[1:]\n",
    "                byte_list[-1].rstrip('\\n') # get rid of the annoying return lines\n",
    "        \n",
    "        ngram_seq = byte_list[:n] # get the first n-gram of the file\n",
    "        ngram = ngram_seq.join()\n",
    "        add_to_ngram_map(file_name,ngram,ngram_map)\n",
    " \n",
    "        for byte in byte_list[n:]:\n",
    "            \n",
    "            # get the next ngram\n",
    "            ngram_seq = ngram_seq[1:]\n",
    "            ngram_seq += byte\n",
    "            ngram = ngram_seq.join()\n",
    "            \n",
    "            # add it to the map\n",
    "            add_to_ngram_map(file_name,ngram,ngram_map)\n",
    "    \n",
    "    return ngram_map"
   ]
  },
  {
   "cell_type": "code",
   "execution_count": 73,
   "metadata": {
    "collapsed": false
   },
   "outputs": [
    {
     "data": {
      "text/plain": [
       "[('one', [1, 0, 0]),\n",
       " ('two', [0, 1, 0]),\n",
       " ('three', [0, 0, 1]),\n",
       " ('one', [1, 0, 0]),\n",
       " ('two', [0, 1, 0]),\n",
       " ('three', [0, 0, 1])]"
      ]
     },
     "execution_count": 73,
     "metadata": {},
     "output_type": "execute_result"
    }
   ],
   "source": [
    "pairRdd.collect()"
   ]
  },
  {
   "cell_type": "code",
   "execution_count": 33,
   "metadata": {
    "collapsed": false
   },
   "outputs": [
    {
     "data": {
      "text/plain": [
       "/Users/jshuster/projects/personal/kaggle/data/test_bytes/fileList.txt MappedRDD[11] at textFile at NativeMethodAccessorImpl.java:-2"
      ]
     },
     "execution_count": 33,
     "metadata": {},
     "output_type": "execute_result"
    }
   ],
   "source": [
    "rdd"
   ]
  },
  {
   "cell_type": "code",
   "execution_count": 70,
   "metadata": {
    "collapsed": false
   },
   "outputs": [],
   "source": [
    "def accumulate(k, x):\n",
    "    return [i+j for i,j in zip(k,x)]"
   ]
  },
  {
   "cell_type": "code",
   "execution_count": 44,
   "metadata": {
    "collapsed": false
   },
   "outputs": [
    {
     "data": {
      "text/plain": [
       "[2, 1, 0]"
      ]
     },
     "execution_count": 44,
     "metadata": {},
     "output_type": "execute_result"
    }
   ],
   "source": [
    "accumulate([[2,0],[0,1]])"
   ]
  },
  {
   "cell_type": "code",
   "execution_count": 71,
   "metadata": {
    "collapsed": false
   },
   "outputs": [
    {
     "data": {
      "text/plain": [
       "[('one', [2, 0, 0]), ('three', [0, 0, 2]), ('two', [0, 2, 0])]"
      ]
     },
     "execution_count": 71,
     "metadata": {},
     "output_type": "execute_result"
    }
   ],
   "source": [
    "pairRdd.reduceByKey(accumulate).collect()"
   ]
  },
  {
   "cell_type": "code",
   "execution_count": 82,
   "metadata": {
    "collapsed": false
   },
   "outputs": [
    {
     "data": {
      "text/plain": [
       "[('00526600 00 00 00 00', [1]),\n",
       " ('00582FF0 ?? ?? ?? ?? ?? ?? ?? ?? ?? ?? ?? ?? ?? ?? ?? ??\\r\\n', [1])]"
      ]
     },
     "execution_count": 82,
     "metadata": {},
     "output_type": "execute_result"
    }
   ],
   "source": [
    "rdd.flatMap(NgramCount).collect()"
   ]
  },
  {
   "cell_type": "code",
   "execution_count": 87,
   "metadata": {
    "collapsed": false
   },
   "outputs": [],
   "source": [
    "def bargraphRuined(x):\n",
    "    accum = 0\n",
    "    for i in x:\n",
    "        accum += 1\n",
    "    return [(\"one\", [accum,0,0]), (\"two\",[0,1,0]), (\"three\",[0,0,1])]"
   ]
  },
  {
   "cell_type": "code",
   "execution_count": 88,
   "metadata": {
    "collapsed": false
   },
   "outputs": [],
   "source": [
    "testRdd = rdd.mapPartitions(bargraphRuined)"
   ]
  },
  {
   "cell_type": "code",
   "execution_count": 89,
   "metadata": {
    "collapsed": false
   },
   "outputs": [
    {
     "data": {
      "text/plain": [
       "[('one', [2, 0, 0]), ('two', [0, 1, 0]), ('three', [0, 0, 1])]"
      ]
     },
     "execution_count": 89,
     "metadata": {},
     "output_type": "execute_result"
    }
   ],
   "source": [
    "testRdd.collect()"
   ]
  },
  {
   "cell_type": "code",
   "execution_count": 90,
   "metadata": {
    "collapsed": false
   },
   "outputs": [
    {
     "data": {
      "text/plain": [
       "[u'/Users/jshuster/projects/personal/kaggle/data/test_bytes/0A32eTdBKayjCWhZqDOQ.bytes',\n",
       " u'/Users/jshuster/projects/personal/kaggle/data/test_bytes/0ACDbR5M3ZhBJajygTuf.bytes']"
      ]
     },
     "execution_count": 90,
     "metadata": {},
     "output_type": "execute_result"
    }
   ],
   "source": [
    "rdd.collect()"
   ]
  },
  {
   "cell_type": "code",
   "execution_count": 93,
   "metadata": {
    "collapsed": false
   },
   "outputs": [],
   "source": [
    "testRdd = rdd.repartition(2).mapPartitions(bargraphRuined)"
   ]
  },
  {
   "cell_type": "code",
   "execution_count": 94,
   "metadata": {
    "collapsed": false
   },
   "outputs": [
    {
     "data": {
      "text/plain": [
       "[('one', [2, 0, 0]), ('three', [0, 0, 2]), ('two', [0, 2, 0])]"
      ]
     },
     "execution_count": 94,
     "metadata": {},
     "output_type": "execute_result"
    }
   ],
   "source": [
    "testRdd.reduceByKey(accumulate).collect()"
   ]
  },
  {
   "cell_type": "code",
   "execution_count": null,
   "metadata": {
    "collapsed": false
   },
   "outputs": [],
   "source": []
  }
 ],
 "metadata": {
  "kernelspec": {
   "display_name": "Python 2",
   "language": "python",
   "name": "python2"
  },
  "language_info": {
   "codemirror_mode": {
    "name": "ipython",
    "version": 2
   },
   "file_extension": ".py",
   "mimetype": "text/x-python",
   "name": "python",
   "nbconvert_exporter": "python",
   "pygments_lexer": "ipython2",
   "version": "2.7.3"
  }
 },
 "nbformat": 4,
 "nbformat_minor": 0
}
