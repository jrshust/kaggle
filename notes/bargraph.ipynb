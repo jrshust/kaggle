{
 "metadata": {
  "kernelspec": {
   "display_name": "Python 2",
   "language": "python",
   "name": "python2"
  },
  "language_info": {
   "codemirror_mode": {
    "name": "ipython",
    "version": 2
   },
   "file_extension": ".py",
   "mimetype": "text/x-python",
   "name": "python",
   "nbconvert_exporter": "python",
   "pygments_lexer": "ipython2",
   "version": "2.7.3"
  },
  "name": "",
  "signature": "sha256:5d802e642fb9aaaecd147c5aa9d8c650bdb4521e0b3d3900e85e61b7c96c6cc5"
 },
 "nbformat": 3,
 "nbformat_minor": 0,
 "worksheets": [
  {
   "cells": [
    {
     "cell_type": "code",
     "collapsed": false,
     "input": [
      "from pyspark import SparkContext"
     ],
     "language": "python",
     "metadata": {},
     "outputs": [],
     "prompt_number": 2
    },
    {
     "cell_type": "code",
     "collapsed": false,
     "input": [
      "sc = SparkContext(\"local\", \"main\")"
     ],
     "language": "python",
     "metadata": {},
     "outputs": [],
     "prompt_number": 3
    },
    {
     "cell_type": "code",
     "collapsed": false,
     "input": [
      "fname2label = {\"/Users/jshuster/projects/personal/kaggle/data/test_bytes/ABRIDGED_BHARGAV.bytes\": 4,\"/Users/jshuster/projects/personal/kaggle/data/test_bytes/0A32eTdBKayjCWhZqDOQ.bytes\": 1, \"/Users/jshuster/projects/personal/kaggle/data/test_bytes/0ACDbR5M3ZhBJajygTuf.bytes\": 3}"
     ],
     "language": "python",
     "metadata": {},
     "outputs": [],
     "prompt_number": 23
    },
    {
     "cell_type": "code",
     "collapsed": false,
     "input": [
      "rdd = sc.textFile(\"/Users/jshuster/projects/personal/kaggle/data/test_bytes/fileList.txt\")"
     ],
     "language": "python",
     "metadata": {},
     "outputs": [],
     "prompt_number": 5
    },
    {
     "cell_type": "code",
     "collapsed": false,
     "input": [
      "rdd.collect()"
     ],
     "language": "python",
     "metadata": {},
     "outputs": [
      {
       "metadata": {},
       "output_type": "pyout",
       "prompt_number": 6,
       "text": [
        "[u'/Users/jshuster/projects/personal/kaggle/data/test_bytes/0A32eTdBKayjCWhZqDOQ.bytes',\n",
        " u'/Users/jshuster/projects/personal/kaggle/data/test_bytes/0ACDbR5M3ZhBJajygTuf.bytes']"
       ]
      }
     ],
     "prompt_number": 6
    },
    {
     "cell_type": "code",
     "collapsed": false,
     "input": [
      "pairRdd = rdd.flatMap(lambda x:\n",
      "    [(\"one\", [1,0,0]), (\"two\",[0,1,0]), (\"three\",[0,0,1])]\n",
      ")"
     ],
     "language": "python",
     "metadata": {},
     "outputs": [],
     "prompt_number": 72
    },
    {
     "cell_type": "code",
     "collapsed": false,
     "input": [
      "n = 4\n",
      "c = 9\n",
      "\n",
      "def add_to_ngram_map(filename,ngram,ngram_map):\n",
      "    ''' convenience function to add an ngram to the ngram_map '''\n",
      "    label_idx = fname2label[filename]-1\n",
      "    if not ngram in ngram_map:\n",
      "        ngram_map[ngram] = [0]*c\n",
      "        ngram_map[ngram][label_idx] = 1\n",
      "\n",
      "def ngram_count(filenames):\n",
      "    ''' given a set of files, returns a map of ngrams->frequencies '''\n",
      "    ngram_map = {}\n",
      "    for filename in filenames:\n",
      "        byte_list = []   \n",
      "        # read each line, appending bytes (pairs of hex chars) to a list\n",
      "        with open(filename, \"r\") as f:\n",
      "            rows = f.readlines()\n",
      "            for row in rows:\n",
      "                byte_list+=row.split()[1:]\n",
      "                byte_list[-1] = byte_list[-1].rstrip('\\n') # get rid of the annoying return lines\n",
      "        \n",
      "        ngram_seq = byte_list[:n] # get the first n-gram of the file\n",
      "        ngram = ''.join(ngram_seq)\n",
      "        add_to_ngram_map(filename,ngram,ngram_map)\n",
      "        \n",
      "        for byte in byte_list[n:]:\n",
      "            \n",
      "            # get the next ngram\n",
      "            ngram_seq = ngram_seq[1:]\n",
      "            ngram_seq.append(byte)\n",
      "            ngram = ''.join(ngram_seq)\n",
      "            \n",
      "            # add it to the map\n",
      "            add_to_ngram_map(filename,ngram,ngram_map)\n",
      "    \n",
      "    return [(k, v) for k, v in ngram_map.iteritems()]"
     ],
     "language": "python",
     "metadata": {},
     "outputs": [],
     "prompt_number": 57
    },
    {
     "cell_type": "code",
     "collapsed": false,
     "input": [
      "pairRdd.collect()"
     ],
     "language": "python",
     "metadata": {},
     "outputs": [
      {
       "metadata": {},
       "output_type": "pyout",
       "prompt_number": 73,
       "text": [
        "[('one', [1, 0, 0]),\n",
        " ('two', [0, 1, 0]),\n",
        " ('three', [0, 0, 1]),\n",
        " ('one', [1, 0, 0]),\n",
        " ('two', [0, 1, 0]),\n",
        " ('three', [0, 0, 1])]"
       ]
      }
     ],
     "prompt_number": 73
    },
    {
     "cell_type": "code",
     "collapsed": false,
     "input": [
      "rdd"
     ],
     "language": "python",
     "metadata": {},
     "outputs": [
      {
       "metadata": {},
       "output_type": "pyout",
       "prompt_number": 33,
       "text": [
        "/Users/jshuster/projects/personal/kaggle/data/test_bytes/fileList.txt MappedRDD[11] at textFile at NativeMethodAccessorImpl.java:-2"
       ]
      }
     ],
     "prompt_number": 33
    },
    {
     "cell_type": "code",
     "collapsed": false,
     "input": [
      "def accumulate(k, x):\n",
      "    return [i+j for i,j in zip(k,x)]"
     ],
     "language": "python",
     "metadata": {},
     "outputs": [],
     "prompt_number": 49
    },
    {
     "cell_type": "code",
     "collapsed": false,
     "input": [
      "accumulate([[2,0],[0,1]])"
     ],
     "language": "python",
     "metadata": {},
     "outputs": [
      {
       "metadata": {},
       "output_type": "pyout",
       "prompt_number": 44,
       "text": [
        "[2, 1, 0]"
       ]
      }
     ],
     "prompt_number": 44
    },
    {
     "cell_type": "code",
     "collapsed": false,
     "input": [
      "pairRdd.reduceByKey(accumulate).collect()"
     ],
     "language": "python",
     "metadata": {},
     "outputs": [
      {
       "metadata": {},
       "output_type": "pyout",
       "prompt_number": 71,
       "text": [
        "[('one', [2, 0, 0]), ('three', [0, 0, 2]), ('two', [0, 2, 0])]"
       ]
      }
     ],
     "prompt_number": 71
    },
    {
     "cell_type": "code",
     "collapsed": false,
     "input": [
      "rdd.flatMap(NgramCount).collect()"
     ],
     "language": "python",
     "metadata": {},
     "outputs": [
      {
       "metadata": {},
       "output_type": "pyout",
       "prompt_number": 82,
       "text": [
        "[('00526600 00 00 00 00', [1]),\n",
        " ('00582FF0 ?? ?? ?? ?? ?? ?? ?? ?? ?? ?? ?? ?? ?? ?? ?? ??\\r\\n', [1])]"
       ]
      }
     ],
     "prompt_number": 82
    },
    {
     "cell_type": "code",
     "collapsed": false,
     "input": [
      "def bargraphRuined(x):\n",
      "    accum = 0\n",
      "    for i in x:\n",
      "        accum += 1\n",
      "    return [(\"one\", [accum,0,0]), (\"two\",[0,1,0]), (\"three\",[0,0,1])]"
     ],
     "language": "python",
     "metadata": {},
     "outputs": [],
     "prompt_number": 87
    },
    {
     "cell_type": "code",
     "collapsed": false,
     "input": [
      "testRdd = rdd.mapPartitions(bargraphRuined)"
     ],
     "language": "python",
     "metadata": {},
     "outputs": [],
     "prompt_number": 88
    },
    {
     "cell_type": "code",
     "collapsed": false,
     "input": [
      "testRdd.collect()"
     ],
     "language": "python",
     "metadata": {},
     "outputs": [
      {
       "metadata": {},
       "output_type": "pyout",
       "prompt_number": 89,
       "text": [
        "[('one', [2, 0, 0]), ('two', [0, 1, 0]), ('three', [0, 0, 1])]"
       ]
      }
     ],
     "prompt_number": 89
    },
    {
     "cell_type": "code",
     "collapsed": false,
     "input": [
      "rdd.collect()"
     ],
     "language": "python",
     "metadata": {},
     "outputs": [
      {
       "metadata": {},
       "output_type": "pyout",
       "prompt_number": 90,
       "text": [
        "[u'/Users/jshuster/projects/personal/kaggle/data/test_bytes/0A32eTdBKayjCWhZqDOQ.bytes',\n",
        " u'/Users/jshuster/projects/personal/kaggle/data/test_bytes/0ACDbR5M3ZhBJajygTuf.bytes']"
       ]
      }
     ],
     "prompt_number": 90
    },
    {
     "cell_type": "code",
     "collapsed": false,
     "input": [
      "testRdd = rdd.repartition(2).mapPartitions(ngram_count)"
     ],
     "language": "python",
     "metadata": {},
     "outputs": [],
     "prompt_number": 59
    },
    {
     "cell_type": "code",
     "collapsed": false,
     "input": [
      "bawsResults = testRdd.reduceByKey(accumulate)"
     ],
     "language": "python",
     "metadata": {},
     "outputs": [],
     "prompt_number": 60
    },
    {
     "cell_type": "code",
     "collapsed": false,
     "input": [
      "boss = bawsResults.take(100)"
     ],
     "language": "python",
     "metadata": {},
     "outputs": [],
     "prompt_number": 63
    },
    {
     "cell_type": "code",
     "collapsed": false,
     "input": [
      "variable = ngram_count(rdd.collect())"
     ],
     "language": "python",
     "metadata": {},
     "outputs": [],
     "prompt_number": 45
    },
    {
     "cell_type": "code",
     "collapsed": false,
     "input": [
      "rdd.collect()"
     ],
     "language": "python",
     "metadata": {},
     "outputs": [
      {
       "metadata": {},
       "output_type": "pyout",
       "prompt_number": 40,
       "text": [
        "[u'/Users/jshuster/projects/personal/kaggle/data/test_bytes/0A32eTdBKayjCWhZqDOQ.bytes',\n",
        " u'/Users/jshuster/projects/personal/kaggle/data/test_bytes/0ACDbR5M3ZhBJajygTuf.bytes']"
       ]
      }
     ],
     "prompt_number": 40
    },
    {
     "cell_type": "code",
     "collapsed": false,
     "input": [
      "philteredSoul = bawsResults.filter(lambda x: x[1][0] == 1 and x[1][2] == 1)"
     ],
     "language": "python",
     "metadata": {},
     "outputs": [],
     "prompt_number": 67
    },
    {
     "cell_type": "code",
     "collapsed": false,
     "input": [
      "philteredSoul.take(200)"
     ],
     "language": "python",
     "metadata": {},
     "outputs": [
      {
       "metadata": {},
       "output_type": "pyout",
       "prompt_number": 69,
       "text": [
        "[('894DCC89', [1, 0, 1, 0, 0, 0, 0, 0, 0]),\n",
        " ('01EE008E', [1, 0, 1, 0, 0, 0, 0, 0, 0]),\n",
        " ('4811A810', [1, 0, 1, 0, 0, 0, 0, 0, 0]),\n",
        " ('08000000', [1, 0, 1, 0, 0, 0, 0, 0, 0]),\n",
        " ('849E0000', [1, 0, 1, 0, 0, 0, 0, 0, 0]),\n",
        " ('1142108C', [1, 0, 1, 0, 0, 0, 0, 0, 0]),\n",
        " ('02010E00', [1, 0, 1, 0, 0, 0, 0, 0, 0]),\n",
        " ('8001E200', [1, 0, 1, 0, 0, 0, 0, 0, 0]),\n",
        " ('2211E210', [1, 0, 1, 0, 0, 0, 0, 0, 0]),\n",
        " ('014A0020', [1, 0, 1, 0, 0, 0, 0, 0, 0]),\n",
        " ('014A0024', [1, 0, 1, 0, 0, 0, 0, 0, 0]),\n",
        " ('82012C00', [1, 0, 1, 0, 0, 0, 0, 0, 0]),\n",
        " ('A8018000', [1, 0, 1, 0, 0, 0, 0, 0, 0]),\n",
        " ('0E012400', [1, 0, 1, 0, 0, 0, 0, 0, 0]),\n",
        " ('0611C410', [1, 0, 1, 0, 0, 0, 0, 0, 0]),\n",
        " ('014E0044', [1, 0, 1, 0, 0, 0, 0, 0, 0]),\n",
        " ('014E0046', [1, 0, 1, 0, 0, 0, 0, 0, 0]),\n",
        " ('014E0048', [1, 0, 1, 0, 0, 0, 0, 0, 0]),\n",
        " ('8538FFFF', [1, 0, 1, 0, 0, 0, 0, 0, 0]),\n",
        " ('AA01E400', [1, 0, 1, 0, 0, 0, 0, 0, 0]),\n",
        " ('6E010000', [1, 0, 1, 0, 0, 0, 0, 0, 0]),\n",
        " ('0102004E', [1, 0, 1, 0, 0, 0, 0, 0, 0]),\n",
        " ('0102004A', [1, 0, 1, 0, 0, 0, 0, 0, 0]),\n",
        " ('6C110210', [1, 0, 1, 0, 0, 0, 0, 0, 0]),\n",
        " ('A8110010', [1, 0, 1, 0, 0, 0, 0, 0, 0]),\n",
        " ('00680000', [1, 0, 1, 0, 0, 0, 0, 0, 0]),\n",
        " ('46756E63', [1, 0, 1, 0, 0, 0, 0, 0, 0]),\n",
        " ('114A10CC', [1, 0, 1, 0, 0, 0, 0, 0, 0]),\n",
        " ('72010000', [1, 0, 1, 0, 0, 0, 0, 0, 0]),\n",
        " ('114C1080', [1, 0, 1, 0, 0, 0, 0, 0, 0]),\n",
        " ('114C1086', [1, 0, 1, 0, 0, 0, 0, 0, 0]),\n",
        " ('114C1084', [1, 0, 1, 0, 0, 0, 0, 0, 0]),\n",
        " ('00040000', [1, 0, 1, 0, 0, 0, 0, 0, 0]),\n",
        " ('000000A7', [1, 0, 1, 0, 0, 0, 0, 0, 0]),\n",
        " ('0148008C', [1, 0, 1, 0, 0, 0, 0, 0, 0]),\n",
        " ('11AA100E', [1, 0, 1, 0, 0, 0, 0, 0, 0]),\n",
        " ('C9000000', [1, 0, 1, 0, 0, 0, 0, 0, 0]),\n",
        " ('0211C810', [1, 0, 1, 0, 0, 0, 0, 0, 0]),\n",
        " ('8E118810', [1, 0, 1, 0, 0, 0, 0, 0, 0]),\n",
        " ('0C012800', [1, 0, 1, 0, 0, 0, 0, 0, 0]),\n",
        " ('80012A00', [1, 0, 1, 0, 0, 0, 0, 0, 0]),\n",
        " ('012A0082', [1, 0, 1, 0, 0, 0, 0, 0, 0]),\n",
        " ('80800000', [1, 0, 1, 0, 0, 0, 0, 0, 0]),\n",
        " ('016C0044', [1, 0, 1, 0, 0, 0, 0, 0, 0]),\n",
        " ('20016A00', [1, 0, 1, 0, 0, 0, 0, 0, 0]),\n",
        " ('FFFFFF8D', [1, 0, 1, 0, 0, 0, 0, 0, 0]),\n",
        " ('118210E2', [1, 0, 1, 0, 0, 0, 0, 0, 0]),\n",
        " ('118210E8', [1, 0, 1, 0, 0, 0, 0, 0, 0]),\n",
        " ('A0016800', [1, 0, 1, 0, 0, 0, 0, 0, 0]),\n",
        " ('110E1020', [1, 0, 1, 0, 0, 0, 0, 0, 0]),\n",
        " ('8A01AA00', [1, 0, 1, 0, 0, 0, 0, 0, 0]),\n",
        " ('897DF48B', [1, 0, 1, 0, 0, 0, 0, 0, 0]),\n",
        " ('0F858300', [1, 0, 1, 0, 0, 0, 0, 0, 0]),\n",
        " ('40118A10', [1, 0, 1, 0, 0, 0, 0, 0, 0]),\n",
        " ('4201E200', [1, 0, 1, 0, 0, 0, 0, 0, 0]),\n",
        " ('00FF25E0', [1, 0, 1, 0, 0, 0, 0, 0, 0]),\n",
        " ('00FF25E4', [1, 0, 1, 0, 0, 0, 0, 0, 0]),\n",
        " ('018C0068', [1, 0, 1, 0, 0, 0, 0, 0, 0]),\n",
        " ('0124000E', [1, 0, 1, 0, 0, 0, 0, 0, 0]),\n",
        " ('018C0064', [1, 0, 1, 0, 0, 0, 0, 0, 0]),\n",
        " ('014A0022', [1, 0, 1, 0, 0, 0, 0, 0, 0]),\n",
        " ('014A0026', [1, 0, 1, 0, 0, 0, 0, 0, 0]),\n",
        " ('01A800CE', [1, 0, 1, 0, 0, 0, 0, 0, 0]),\n",
        " ('E411CC10', [1, 0, 1, 0, 0, 0, 0, 0, 0]),\n",
        " ('00008B0D', [1, 0, 1, 0, 0, 0, 0, 0, 0]),\n",
        " ('014C0084', [1, 0, 1, 0, 0, 0, 0, 0, 0]),\n",
        " ('0140006E', [1, 0, 1, 0, 0, 0, 0, 0, 0]),\n",
        " ('EE01C200', [1, 0, 1, 0, 0, 0, 0, 0, 0]),\n",
        " ('20006800', [1, 0, 1, 0, 0, 0, 0, 0, 0]),\n",
        " ('1106106E', [1, 0, 1, 0, 0, 0, 0, 0, 0]),\n",
        " ('68000000', [1, 0, 1, 0, 0, 0, 0, 0, 0]),\n",
        " ('114E1064', [1, 0, 1, 0, 0, 0, 0, 0, 0]),\n",
        " ('6A110210', [1, 0, 1, 0, 0, 0, 0, 0, 0]),\n",
        " ('112010A2', [1, 0, 1, 0, 0, 0, 0, 0, 0]),\n",
        " ('11A01080', [1, 0, 1, 0, 0, 0, 0, 0, 0]),\n",
        " ('11A01086', [1, 0, 1, 0, 0, 0, 0, 0, 0]),\n",
        " ('11A01084', [1, 0, 1, 0, 0, 0, 0, 0, 0]),\n",
        " ('6A112610', [1, 0, 1, 0, 0, 0, 0, 0, 0]),\n",
        " ('84870100', [1, 0, 1, 0, 0, 0, 0, 0, 0]),\n",
        " ('0126000E', [1, 0, 1, 0, 0, 0, 0, 0, 0]),\n",
        " ('0144008A', [1, 0, 1, 0, 0, 0, 0, 0, 0]),\n",
        " ('0144008E', [1, 0, 1, 0, 0, 0, 0, 0, 0]),\n",
        " ('114E1082', [1, 0, 1, 0, 0, 0, 0, 0, 0]),\n",
        " ('CC116C10', [1, 0, 1, 0, 0, 0, 0, 0, 0]),\n",
        " ('C6010200', [1, 0, 1, 0, 0, 0, 0, 0, 0]),\n",
        " ('A2018000', [1, 0, 1, 0, 0, 0, 0, 0, 0]),\n",
        " ('01E600CA', [1, 0, 1, 0, 0, 0, 0, 0, 0]),\n",
        " ('63617469', [1, 0, 1, 0, 0, 0, 0, 0, 0]),\n",
        " ('012000E8', [1, 0, 1, 0, 0, 0, 0, 0, 0]),\n",
        " ('118C1040', [1, 0, 1, 0, 0, 0, 0, 0, 0]),\n",
        " ('018E00AC', [1, 0, 1, 0, 0, 0, 0, 0, 0]),\n",
        " ('8C016400', [1, 0, 1, 0, 0, 0, 0, 0, 0]),\n",
        " ('118210C4', [1, 0, 1, 0, 0, 0, 0, 0, 0]),\n",
        " ('CA01E000', [1, 0, 1, 0, 0, 0, 0, 0, 0]),\n",
        " ('110010C0', [1, 0, 1, 0, 0, 0, 0, 0, 0]),\n",
        " ('CA11E810', [1, 0, 1, 0, 0, 0, 0, 0, 0]),\n",
        " ('60014E00', [1, 0, 1, 0, 0, 0, 0, 0, 0]),\n",
        " ('84FF0000', [1, 0, 1, 0, 0, 0, 0, 0, 0]),\n",
        " ('22000000', [1, 0, 1, 0, 0, 0, 0, 0, 0]),\n",
        " ('82116C10', [1, 0, 1, 0, 0, 0, 0, 0, 0]),\n",
        " ('EE11A410', [1, 0, 1, 0, 0, 0, 0, 0, 0]),\n",
        " ('85D10000', [1, 0, 1, 0, 0, 0, 0, 0, 0]),\n",
        " ('0601E000', [1, 0, 1, 0, 0, 0, 0, 0, 0]),\n",
        " ('FFFF895D', [1, 0, 1, 0, 0, 0, 0, 0, 0]),\n",
        " ('6201A800', [1, 0, 1, 0, 0, 0, 0, 0, 0]),\n",
        " ('116E1088', [1, 0, 1, 0, 0, 0, 0, 0, 0]),\n",
        " ('116E1084', [1, 0, 1, 0, 0, 0, 0, 0, 0]),\n",
        " ('6A016000', [1, 0, 1, 0, 0, 0, 0, 0, 0]),\n",
        " ('A8116410', [1, 0, 1, 0, 0, 0, 0, 0, 0]),\n",
        " ('0164000A', [1, 0, 1, 0, 0, 0, 0, 0, 0]),\n",
        " ('A2014800', [1, 0, 1, 0, 0, 0, 0, 0, 0]),\n",
        " ('112C1022', [1, 0, 1, 0, 0, 0, 0, 0, 0]),\n",
        " ('112C1020', [1, 0, 1, 0, 0, 0, 0, 0, 0]),\n",
        " ('112C1026', [1, 0, 1, 0, 0, 0, 0, 0, 0]),\n",
        " ('112C1028', [1, 0, 1, 0, 0, 0, 0, 0, 0]),\n",
        " ('20110A10', [1, 0, 1, 0, 0, 0, 0, 0, 0]),\n",
        " ('008975E0', [1, 0, 1, 0, 0, 0, 0, 0, 0]),\n",
        " ('0122008C', [1, 0, 1, 0, 0, 0, 0, 0, 0]),\n",
        " ('EE014E00', [1, 0, 1, 0, 0, 0, 0, 0, 0]),\n",
        " ('01C60042', [1, 0, 1, 0, 0, 0, 0, 0, 0]),\n",
        " ('01C60046', [1, 0, 1, 0, 0, 0, 0, 0, 0]),\n",
        " ('01C60044', [1, 0, 1, 0, 0, 0, 0, 0, 0]),\n",
        " ('01E00042', [1, 0, 1, 0, 0, 0, 0, 0, 0]),\n",
        " ('01E00040', [1, 0, 1, 0, 0, 0, 0, 0, 0]),\n",
        " ('6801A200', [1, 0, 1, 0, 0, 0, 0, 0, 0]),\n",
        " ('016000C8', [1, 0, 1, 0, 0, 0, 0, 0, 0]),\n",
        " ('016000C2', [1, 0, 1, 0, 0, 0, 0, 0, 0]),\n",
        " ('016000C0', [1, 0, 1, 0, 0, 0, 0, 0, 0]),\n",
        " ('A2118410', [1, 0, 1, 0, 0, 0, 0, 0, 0]),\n",
        " ('8811A610', [1, 0, 1, 0, 0, 0, 0, 0, 0]),\n",
        " ('01A40024', [1, 0, 1, 0, 0, 0, 0, 0, 0]),\n",
        " ('01A40028', [1, 0, 1, 0, 0, 0, 0, 0, 0]),\n",
        " ('0811C410', [1, 0, 1, 0, 0, 0, 0, 0, 0]),\n",
        " ('116210C0', [1, 0, 1, 0, 0, 0, 0, 0, 0]),\n",
        " ('2211C010', [1, 0, 1, 0, 0, 0, 0, 0, 0]),\n",
        " ('11A21060', [1, 0, 1, 0, 0, 0, 0, 0, 0]),\n",
        " ('018200C0', [1, 0, 1, 0, 0, 0, 0, 0, 0]),\n",
        " ('????????', [1, 0, 1, 0, 0, 0, 0, 0, 0]),\n",
        " ('741081F9', [1, 0, 1, 0, 0, 0, 0, 0, 0]),\n",
        " ('0E014200', [1, 0, 1, 0, 0, 0, 0, 0, 0]),\n",
        " ('9D010000', [1, 0, 1, 0, 0, 0, 0, 0, 0]),\n",
        " ('116810A8', [1, 0, 1, 0, 0, 0, 0, 0, 0]),\n",
        " ('116810A2', [1, 0, 1, 0, 0, 0, 0, 0, 0]),\n",
        " ('116810A6', [1, 0, 1, 0, 0, 0, 0, 0, 0]),\n",
        " ('8001C000', [1, 0, 1, 0, 0, 0, 0, 0, 0]),\n",
        " ('4011A010', [1, 0, 1, 0, 0, 0, 0, 0, 0]),\n",
        " ('0F849E00', [1, 0, 1, 0, 0, 0, 0, 0, 0]),\n",
        " ('1102106E', [1, 0, 1, 0, 0, 0, 0, 0, 0]),\n",
        " ('116A1008', [1, 0, 1, 0, 0, 0, 0, 0, 0]),\n",
        " ('116A1006', [1, 0, 1, 0, 0, 0, 0, 0, 0]),\n",
        " ('116A1004', [1, 0, 1, 0, 0, 0, 0, 0, 0]),\n",
        " ('C2112410', [1, 0, 1, 0, 0, 0, 0, 0, 0]),\n",
        " ('2C018400', [1, 0, 1, 0, 0, 0, 0, 0, 0]),\n",
        " ('CA018C00', [1, 0, 1, 0, 0, 0, 0, 0, 0]),\n",
        " ('28016C00', [1, 0, 1, 0, 0, 0, 0, 0, 0]),\n",
        " ('004C004C', [1, 0, 1, 0, 0, 0, 0, 0, 0]),\n",
        " ('0A014600', [1, 0, 1, 0, 0, 0, 0, 0, 0]),\n",
        " ('AC010C00', [1, 0, 1, 0, 0, 0, 0, 0, 0]),\n",
        " ('C2116610', [1, 0, 1, 0, 0, 0, 0, 0, 0]),\n",
        " ('CA11E010', [1, 0, 1, 0, 0, 0, 0, 0, 0]),\n",
        " ('6601C400', [1, 0, 1, 0, 0, 0, 0, 0, 0]),\n",
        " ('DF000000', [1, 0, 1, 0, 0, 0, 0, 0, 0]),\n",
        " ('4A112410', [1, 0, 1, 0, 0, 0, 0, 0, 0]),\n",
        " ('11A61042', [1, 0, 1, 0, 0, 0, 0, 0, 0]),\n",
        " ('8001E800', [1, 0, 1, 0, 0, 0, 0, 0, 0]),\n",
        " ('47657450', [1, 0, 1, 0, 0, 0, 0, 0, 0]),\n",
        " ('01AC002C', [1, 0, 1, 0, 0, 0, 0, 0, 0]),\n",
        " ('75657374', [1, 0, 1, 0, 0, 0, 0, 0, 0]),\n",
        " ('62118C10', [1, 0, 1, 0, 0, 0, 0, 0, 0]),\n",
        " ('E6114810', [1, 0, 1, 0, 0, 0, 0, 0, 0]),\n",
        " ('6011E210', [1, 0, 1, 0, 0, 0, 0, 0, 0]),\n",
        " ('1120108E', [1, 0, 1, 0, 0, 0, 0, 0, 0]),\n",
        " ('1120108A', [1, 0, 1, 0, 0, 0, 0, 0, 0]),\n",
        " ('014200A0', [1, 0, 1, 0, 0, 0, 0, 0, 0]),\n",
        " ('014200A2', [1, 0, 1, 0, 0, 0, 0, 0, 0]),\n",
        " ('00B40000', [1, 0, 1, 0, 0, 0, 0, 0, 0]),\n",
        " ('86118C10', [1, 0, 1, 0, 0, 0, 0, 0, 0]),\n",
        " ('4611A610', [1, 0, 1, 0, 0, 0, 0, 0, 0]),\n",
        " ('60116C10', [1, 0, 1, 0, 0, 0, 0, 0, 0]),\n",
        " ('E011CE10', [1, 0, 1, 0, 0, 0, 0, 0, 0]),\n",
        " ('118A1044', [1, 0, 1, 0, 0, 0, 0, 0, 0]),\n",
        " ('118A1040', [1, 0, 1, 0, 0, 0, 0, 0, 0]),\n",
        " ('118A1048', [1, 0, 1, 0, 0, 0, 0, 0, 0]),\n",
        " ('6011A410', [1, 0, 1, 0, 0, 0, 0, 0, 0]),\n",
        " ('20018E00', [1, 0, 1, 0, 0, 0, 0, 0, 0]),\n",
        " ('118810C0', [1, 0, 1, 0, 0, 0, 0, 0, 0]),\n",
        " ('114A10CA', [1, 0, 1, 0, 0, 0, 0, 0, 0]),\n",
        " ('016600C8', [1, 0, 1, 0, 0, 0, 0, 0, 0]),\n",
        " ('016600C2', [1, 0, 1, 0, 0, 0, 0, 0, 0]),\n",
        " ('016600C4', [1, 0, 1, 0, 0, 0, 0, 0, 0]),\n",
        " ('8401A000', [1, 0, 1, 0, 0, 0, 0, 0, 0]),\n",
        " ('C6014200', [1, 0, 1, 0, 0, 0, 0, 0, 0]),\n",
        " ('018C0002', [1, 0, 1, 0, 0, 0, 0, 0, 0]),\n",
        " ('018C0006', [1, 0, 1, 0, 0, 0, 0, 0, 0]),\n",
        " ('018C0004', [1, 0, 1, 0, 0, 0, 0, 0, 0]),\n",
        " ('006A0168', [1, 0, 1, 0, 0, 0, 0, 0, 0]),\n",
        " ('008945F4', [1, 0, 1, 0, 0, 0, 0, 0, 0]),\n",
        " ('40018E00', [1, 0, 1, 0, 0, 0, 0, 0, 0]),\n",
        " ('52010000', [1, 0, 1, 0, 0, 0, 0, 0, 0]),\n",
        " ('110C1008', [1, 0, 1, 0, 0, 0, 0, 0, 0])]"
       ]
      }
     ],
     "prompt_number": 69
    },
    {
     "cell_type": "code",
     "collapsed": false,
     "input": [],
     "language": "python",
     "metadata": {},
     "outputs": []
    }
   ],
   "metadata": {}
  }
 ]
}